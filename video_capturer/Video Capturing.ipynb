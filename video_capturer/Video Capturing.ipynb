{
 "cells": [
  {
   "cell_type": "markdown",
   "metadata": {},
   "source": [
    "Copyright (c) 2020 ARS Computer & Consulting GmbH\n",
    "\n",
    "This program and the accompanying materials are made\n",
    "available under the terms of the Eclipse Public License 2.0\n",
    "which is available at https://www.eclipse.org/legal/epl-2.0/\n",
    "\n",
    "SPDX-License-Identifier: EPL-2.0"
   ]
  },
  {
   "cell_type": "markdown",
   "metadata": {},
   "source": [
    "\n",
    "Please note: this notebook uses _ffmpeg_ as external tool, in a different process. Make sure you have the executable at the right place or adapt the path is the respective code cell. You may download ffmpeg from the projects web site at https://ffmpeg.org/ .\n",
    "\n"
   ]
  },
  {
   "cell_type": "code",
   "execution_count": 9,
   "metadata": {},
   "outputs": [],
   "source": [
    "import subprocess\n",
    "import io, os\n",
    "import time, datetime\n",
    "\n",
    "CAPTURE_INTERVAL = 1 * 60 # 1 min\n",
    "PROJECT_INTERVAL = 2 * 60 * 60 # 2 hour"
   ]
  },
  {
   "cell_type": "code",
   "execution_count": 11,
   "metadata": {},
   "outputs": [],
   "source": [
    "def captureAFrame(cameraName, projectName, photoID):\n",
    "    captureFrame = subprocess.run(\n",
    "        [\"../video_capturer/ffmpeg/bin/ffmpeg.exe\", \"-n\", \"-hide_banner\", \"-f\", \"dshow\", \"-i\", \n",
    "         \"video=\" + cameraName, \"-vframes\", \"1\", projectName + \"/\" + str(photoID) + \".png\"],\n",
    "        stdout=subprocess.PIPE, \n",
    "        stderr=subprocess.PIPE)\n",
    "\n",
    "    if captureFrame.returncode == 0:\n",
    "        return True, None\n",
    "    else:\n",
    "        return False, io.BytesIO(captureFrame.stderr)"
   ]
  },
  {
   "cell_type": "code",
   "execution_count": 12,
   "metadata": {},
   "outputs": [
    {
     "name": "stdout",
     "output_type": "stream",
     "text": [
      "[dshow @ 000001b728a29840] DirectShow video devices (some may be both video and audio devices)\n",
      "[dshow @ 000001b728a29840]  \"Lenovo EasyCamera\"\n",
      "[dshow @ 000001b728a29840]     Alternative name \"@device_pnp_\\\\?\\usb#vid_05e3&pid_0510&mi_00#9&ab0188f&0&0000#{65e8773d-8f56-11d0-a3b9-00a0c9223196}\\global\"\n",
      "[dshow @ 000001b728a29840] DirectShow audio devices\n",
      "[dshow @ 000001b728a29840]  \"Microphone (JBL Reflect Aware Audio Interface)\"\n",
      "[dshow @ 000001b728a29840]     Alternative name \"@device_cm_{33D9A762-90C8-11D0-BD43-00A0C911CE86}\\wave_{EA69D82F-2E1C-4D2E-A007-2415D599F72E}\"\n"
     ]
    }
   ],
   "source": [
    "#1. get the list of cameras\n",
    "\n",
    "cameraInfo = subprocess.run(\n",
    "    [\"../video_capturer/ffmpeg/bin/ffmpeg.exe\", \"-hide_banner\", \"-list_devices\", \"true\", \"-f\", \"dshow\", \"-i\", \"dummyffmpeg\"], \n",
    "    stdout=subprocess.PIPE, \n",
    "    stderr=subprocess.PIPE)\n",
    "\n",
    "#print(cameraInfo.returncode)\n",
    "\n",
    "outputStream = io.BytesIO(cameraInfo.stderr)\n",
    "output = outputStream.readline()\n",
    "\n",
    "while len(output) > 0:\n",
    "    trimedOutput = output.decode().strip()\n",
    "    if trimedOutput.startswith(\"[dshow @\"):\n",
    "        print(trimedOutput)\n",
    "    \n",
    "    output = outputStream.readline()"
   ]
  },
  {
   "cell_type": "code",
   "execution_count": 13,
   "metadata": {},
   "outputs": [
    {
     "name": "stdout",
     "output_type": "stream",
     "text": [
      "Choose a name for the new project: test2\n",
      "Project test2 initialized.\n"
     ]
    }
   ],
   "source": [
    "# 2. chooose a new project name\n",
    "newProjectName = input(\"Choose a name for the new project: \")\n",
    "while True: \n",
    "    newProjectName = newProjectName.strip()\n",
    "    if len(newProjectName) == 0:\n",
    "        newProjectName = input(\"Choose a name for the new project: \")\n",
    "    elif os.path.isdir(newProjectName):\n",
    "        newProjectName = input(\"Given project is already exists, choose a name for the new project: \")\n",
    "    else:\n",
    "        os.mkdir(newProjectName)\n",
    "        print(\"Project\", newProjectName, \"initialized.\")\n",
    "        break\n",
    "    "
   ]
  },
  {
   "cell_type": "code",
   "execution_count": 14,
   "metadata": {},
   "outputs": [
    {
     "name": "stdout",
     "output_type": "stream",
     "text": [
      "How often should a photo be taken (unit: seconds/default: 60 seconds)?\n",
      "How long should the experiment be (unit:seconds/default: 7200 seconds)?\n"
     ]
    }
   ],
   "source": [
    "# 3. setting parameters\n",
    "\n",
    "captureInterval = input(\"How often should a photo be taken (unit: seconds/default: 60 seconds)?\")\n",
    "projectInterval = input(\"How long should the experiment be (unit:seconds/default: 7200 seconds)?\")\n",
    "\n",
    "try:\n",
    "    CAPTURE_INTERVAL = int(captureInterval)\n",
    "except:\n",
    "    pass\n",
    "\n",
    "try:\n",
    "    PROJECT_INTERVAL = int(projectInterval)\n",
    "except:\n",
    "    pass"
   ]
  },
  {
   "cell_type": "code",
   "execution_count": 15,
   "metadata": {},
   "outputs": [
    {
     "name": "stdout",
     "output_type": "stream",
     "text": [
      "Which camera would you like to use (e.g. Lenovo EasyCamera)? Lenovo EasyCamera\n",
      "A Photo was succesfully taken at 2020-02-20 11:24:21.466423\n",
      "A Photo was succesfully taken at 2020-02-20 11:25:22.777877\n",
      "A Photo was succesfully taken at 2020-02-20 11:26:24.089350\n",
      "A Photo was succesfully taken at 2020-02-20 11:27:25.400972\n"
     ]
    },
    {
     "ename": "KeyboardInterrupt",
     "evalue": "",
     "output_type": "error",
     "traceback": [
      "\u001b[1;31m---------------------------------------------------------------------------\u001b[0m",
      "\u001b[1;31mKeyboardInterrupt\u001b[0m                         Traceback (most recent call last)",
      "\u001b[1;32m<ipython-input-15-71705c7c450a>\u001b[0m in \u001b[0;36m<module>\u001b[1;34m\u001b[0m\n\u001b[0;32m     29\u001b[0m             \u001b[0moutput\u001b[0m \u001b[1;33m=\u001b[0m \u001b[0merr\u001b[0m\u001b[1;33m.\u001b[0m\u001b[0mreadline\u001b[0m\u001b[1;33m(\u001b[0m\u001b[1;33m)\u001b[0m\u001b[1;33m\u001b[0m\u001b[1;33m\u001b[0m\u001b[0m\n\u001b[0;32m     30\u001b[0m \u001b[1;33m\u001b[0m\u001b[0m\n\u001b[1;32m---> 31\u001b[1;33m     \u001b[0mtime\u001b[0m\u001b[1;33m.\u001b[0m\u001b[0msleep\u001b[0m\u001b[1;33m(\u001b[0m\u001b[0mCAPTURE_INTERVAL\u001b[0m\u001b[1;33m)\u001b[0m\u001b[1;33m\u001b[0m\u001b[1;33m\u001b[0m\u001b[0m\n\u001b[0m\u001b[0;32m     32\u001b[0m \u001b[1;33m\u001b[0m\u001b[0m\n",
      "\u001b[1;31mKeyboardInterrupt\u001b[0m: "
     ]
    }
   ],
   "source": [
    "# 4.camera setup and start\n",
    "# NOTE!! if you want to interrupt the recording process. You can press the \"interrupt the kernel\" button. \n",
    "# However, you may need to wait at most \"captureInterval\" before kernel being interrupted. Please just be patient.\n",
    "\n",
    "cameraName = input(\"Which camera would you like to use (e.g. Lenovo EasyCamera)? \")\n",
    "\n",
    "while True:\n",
    "    cameraName = cameraName.strip()\n",
    "    if len(cameraName) > 0:\n",
    "        break\n",
    "        \n",
    "    else:\n",
    "        cameraName = input(\"Which camera would you like to use (e.g. Lenovo EasyCamera)? \")\n",
    "    \n",
    "for index in range(PROJECT_INTERVAL // CAPTURE_INTERVAL):\n",
    "    result, err = captureAFrame(cameraName, newProjectName, index)\n",
    "    \n",
    "    if result:\n",
    "        print(\"A Photo was succesfully taken at\", datetime.datetime.now())\n",
    "    else:\n",
    "        print(\"Photo taken was failed. Debug messages:\")\n",
    "        \n",
    "        output = err.readline()\n",
    "\n",
    "        while len(output) > 0:\n",
    "            trimedOutput = output.decode().strip()\n",
    "            print(trimedOutput)\n",
    "            \n",
    "            output = err.readline()\n",
    "    \n",
    "    time.sleep(CAPTURE_INTERVAL)\n",
    "        "
   ]
  }
 ],
 "metadata": {
  "kernelspec": {
   "display_name": "Python 3",
   "language": "python",
   "name": "python3"
  },
  "language_info": {
   "codemirror_mode": {
    "name": "ipython",
    "version": 3
   },
   "file_extension": ".py",
   "mimetype": "text/x-python",
   "name": "python",
   "nbconvert_exporter": "python",
   "pygments_lexer": "ipython3",
   "version": "3.7.4"
  }
 },
 "nbformat": 4,
 "nbformat_minor": 2
}
