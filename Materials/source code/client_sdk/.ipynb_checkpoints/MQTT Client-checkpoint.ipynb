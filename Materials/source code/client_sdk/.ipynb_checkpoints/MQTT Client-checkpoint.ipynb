{
 "cells": [
  {
   "cell_type": "markdown",
   "metadata": {},
   "source": [
    "Copyright (c) 2020 ARS Computer & Consulting GmbH\n",
    "\n",
    "This program and the accompanying materials are made\n",
    "available under the terms of the Eclipse Public License 2.0\n",
    "which is available at https://www.eclipse.org/legal/epl-2.0/\n",
    "\n",
    "SPDX-License-Identifier: EPL-2.0"
   ]
  },
  {
   "cell_type": "code",
   "execution_count": null,
   "metadata": {},
   "outputs": [
    {
     "name": "stdout",
     "output_type": "stream",
     "text": [
      "log:  Sending CONNECT (u1, p1, wr0, wq0, wf0, c1, k60) client_id=b'Test'\n",
      "log:  Received CONNACK (0, 0)\n",
      "Connected to broker\n",
      "log:  Sending SUBSCRIBE (d0, m1) [(b'ken/bachlorarbeit', 0)]\n",
      "log:  Received SUBACK\n"
     ]
    }
   ],
   "source": [
    "#  docker run -it -p 1883:1883 -p 9001:9001  eclipse-mosquitto\n",
    "\n",
    "import time\n",
    "\n",
    "import paho.mqtt.client as mqttClient\n",
    "\n",
    "Connected = False #global variable for the state of the connection\n",
    "# broker_address=\"192.168.166.48\" \n",
    "# broker_address=\"192.168.2.108\" \n",
    "broker_address=\"broker.hivemq.com\" \n",
    "port = 1883\n",
    "user = \"roger\"\n",
    "password = \"password\"\n",
    "\n",
    "def on_log(client, userdata, level, buf):\n",
    "    #print(\"log: \",buf)\n",
    "\n",
    "def on_message(client, userdata, message):\n",
    "    print (\"Message received: \"  + str(message.payload))\n",
    "\n",
    "def on_connect(client, userdata, flags, rc):\n",
    "    if rc == 0:\n",
    "        print(\"Connected to broker\")\n",
    "        global Connected                #Use global variable\n",
    "        Connected = True                #Signal connection \n",
    "    else:\n",
    "        print(\"Connection failed\")\n",
    "\n",
    "client = mqttClient.Client(\"Test\")               #create new instance\n",
    "client.username_pw_set(user, password=password)    #set username and password\n",
    "client.on_connect= on_connect                      #attach function to callback\n",
    "client.on_message= on_message \n",
    "client.on_log=on_log\n",
    "client.connect(broker_address, port=port)  #connect to broker\n",
    "client.loop_start()                        #start the loop\n",
    " \n",
    "while Connected != True:    #Wait for connection\n",
    "    time.sleep(0.1)\n",
    "\n",
    "client.subscribe(\"ken/bachlorarbeit\")\n",
    "\n",
    "try:\n",
    "    while True:\n",
    "        time.sleep(1)\n",
    "except KeyboardInterrupt:\n",
    "    print (\"exiting\")\n",
    "    client.disconnect()\n",
    "    client.loop_stop()"
   ]
  }
 ],
 "metadata": {
  "kernelspec": {
   "display_name": "Python 3",
   "language": "python",
   "name": "python3"
  },
  "language_info": {
   "codemirror_mode": {
    "name": "ipython",
    "version": 3
   },
   "file_extension": ".py",
   "mimetype": "text/x-python",
   "name": "python",
   "nbconvert_exporter": "python",
   "pygments_lexer": "ipython3",
   "version": "3.7.4"
  }
 },
 "nbformat": 4,
 "nbformat_minor": 2
}
