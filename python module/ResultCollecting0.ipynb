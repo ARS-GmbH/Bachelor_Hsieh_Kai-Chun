{
 "cells": [
  {
   "cell_type": "markdown",
   "metadata": {},
   "source": [
    "Copyright (c) 2020 ARS Computer & Consulting GmbH\n",
    "\n",
    "This program and the accompanying materials are made\n",
    "available under the terms of the Eclipse Public License 2.0\n",
    "which is available at https://www.eclipse.org/legal/epl-2.0/\n",
    "\n",
    "SPDX-License-Identifier: EPL-2.0"
   ]
  },
  {
   "cell_type": "code",
   "execution_count": 28,
   "metadata": {},
   "outputs": [],
   "source": [
    "import utils\n",
    "import photo_managing\n",
    "import model_managing\n",
    "import notification\n",
    "\n",
    "import time\n",
    "\n",
    "pm = photo_managing.PhotoManager(\"127.0.0.1\", 5000)\n",
    "\n",
    "uploadstart = time.time()\n",
    "uploadResult0 = pm.uploadPhotos(\"edu.hm.hsieh_mylocalphotoloader_1.0\", utils.getPhotoList(\"../speedtest\", extension=\"png\"))\n",
    "uploadend = time.time()\n",
    "\n",
    "dataset0 = uploadResult0.uploaded\n",
    "mm = model_managing.ModelManager(\"127.0.0.1\", 5000)\n",
    "\n",
    "start = time.time()\n",
    "model = mm.createNewModel(\"edu.hm.hsieh_azureimageclassifier_1.0\", \"azureSpeedTest15\", \"its a test model\")\n",
    "end = time.time()\n",
    "#model.feed_train_data(dataset0, 0)"
   ]
  },
  {
   "cell_type": "code",
   "execution_count": null,
   "metadata": {
    "scrolled": false
   },
   "outputs": [],
   "source": [
    "#model.train()"
   ]
  },
  {
   "cell_type": "code",
   "execution_count": 29,
   "metadata": {},
   "outputs": [
    {
     "data": {
      "text/plain": [
       "1.1323421001434326"
      ]
     },
     "execution_count": 29,
     "metadata": {},
     "output_type": "execute_result"
    }
   ],
   "source": [
    "end -start"
   ]
  },
  {
   "cell_type": "code",
   "execution_count": 25,
   "metadata": {},
   "outputs": [
    {
     "data": {
      "text/plain": [
       "8.029955625534058"
      ]
     },
     "execution_count": 25,
     "metadata": {},
     "output_type": "execute_result"
    }
   ],
   "source": [
    "uploadend - uploadstart"
   ]
  },
  {
   "cell_type": "code",
   "execution_count": 40,
   "metadata": {},
   "outputs": [
    {
     "data": {
      "text/plain": [
       "0.2534887727559868"
      ]
     },
     "execution_count": 40,
     "metadata": {},
     "output_type": "execute_result"
    }
   ],
   "source": [
    "1-(129.99)/(129.99+44.14)"
   ]
  },
  {
   "cell_type": "code",
   "execution_count": 41,
   "metadata": {},
   "outputs": [
    {
     "data": {
      "text/plain": [
       "0.9731159100925518"
      ]
     },
     "execution_count": 41,
     "metadata": {},
     "output_type": "execute_result"
    }
   ],
   "source": [
    "1-(1.22)/(1.22+44.16)"
   ]
  },
  {
   "cell_type": "code",
   "execution_count": 42,
   "metadata": {},
   "outputs": [
    {
     "data": {
      "text/plain": [
       "0.7884028484231942"
      ]
     },
     "execution_count": 42,
     "metadata": {},
     "output_type": "execute_result"
    }
   ],
   "source": [
    "1-(1.13+0.95)/(7.75+1.13+0.95)"
   ]
  }
 ],
 "metadata": {
  "kernelspec": {
   "display_name": "Python 3",
   "language": "python",
   "name": "python3"
  },
  "language_info": {
   "codemirror_mode": {
    "name": "ipython",
    "version": 3
   },
   "file_extension": ".py",
   "mimetype": "text/x-python",
   "name": "python",
   "nbconvert_exporter": "python",
   "pygments_lexer": "ipython3",
   "version": "3.7.6"
  }
 },
 "nbformat": 4,
 "nbformat_minor": 4
}
